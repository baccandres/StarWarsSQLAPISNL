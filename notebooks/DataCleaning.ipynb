{
 "cells": [
  {
   "cell_type": "code",
   "execution_count": 1,
   "id": "22396469",
   "metadata": {},
   "outputs": [],
   "source": [
    "import pandas as pd\n",
    "import sys\n",
    "sys.path.append('../')\n",
    "import src.cleaning as cl"
   ]
  },
  {
   "cell_type": "code",
   "execution_count": 2,
   "id": "1c070994",
   "metadata": {},
   "outputs": [],
   "source": [
    "epIV = pd.read_table('../StarWarsScripts/SW_EpisodeIV.txt')\n",
    "epV = pd.read_table('../StarWarsScripts/SW_EpisodeV.txt')\n",
    "epVI = pd.read_table('../StarWarsScripts/SW_EpisodeVI.txt')"
   ]
  },
  {
   "cell_type": "code",
   "execution_count": 3,
   "id": "76272f1f",
   "metadata": {},
   "outputs": [
    {
     "data": {
      "text/html": [
       "<div>\n",
       "<style scoped>\n",
       "    .dataframe tbody tr th:only-of-type {\n",
       "        vertical-align: middle;\n",
       "    }\n",
       "\n",
       "    .dataframe tbody tr th {\n",
       "        vertical-align: top;\n",
       "    }\n",
       "\n",
       "    .dataframe thead th {\n",
       "        text-align: right;\n",
       "    }\n",
       "</style>\n",
       "<table border=\"1\" class=\"dataframe\">\n",
       "  <thead>\n",
       "    <tr style=\"text-align: right;\">\n",
       "      <th></th>\n",
       "      <th>character \"dialogue\"</th>\n",
       "    </tr>\n",
       "  </thead>\n",
       "  <tbody>\n",
       "    <tr>\n",
       "      <th>739</th>\n",
       "      <td>740 \"TROOPER\" \"Close the blast doors!\"</td>\n",
       "    </tr>\n",
       "    <tr>\n",
       "      <th>508</th>\n",
       "      <td>509 \"BEN\" \"You can't win.  But there are alter...</td>\n",
       "    </tr>\n",
       "    <tr>\n",
       "      <th>653</th>\n",
       "      <td>654 \"HAN\" \"It's worse.\"</td>\n",
       "    </tr>\n",
       "  </tbody>\n",
       "</table>\n",
       "</div>"
      ],
      "text/plain": [
       "                                  character \"dialogue\"\n",
       "739             740 \"TROOPER\" \"Close the blast doors!\"\n",
       "508  509 \"BEN\" \"You can't win.  But there are alter...\n",
       "653                            654 \"HAN\" \"It's worse.\""
      ]
     },
     "execution_count": 3,
     "metadata": {},
     "output_type": "execute_result"
    }
   ],
   "source": [
    "epIV.sample(3)"
   ]
  },
  {
   "cell_type": "code",
   "execution_count": 4,
   "id": "8ba7b63d",
   "metadata": {},
   "outputs": [],
   "source": [
    "df_1 = cl.cleandf(epIV);\n",
    "df_1['episode'] = 'IV'\n",
    "df_2 = cl.cleandf(epV);\n",
    "df_2['episode'] = 'V'\n",
    "df_3 = cl.cleandf(epVI);\n",
    "df_3['episode'] = 'VI'"
   ]
  },
  {
   "cell_type": "code",
   "execution_count": 5,
   "id": "ae72be6e",
   "metadata": {},
   "outputs": [],
   "source": [
    "starwars = pd.concat([df_1, df_2, df_3]).reset_index()\n",
    "starwars.set_index('index', inplace=True)"
   ]
  },
  {
   "cell_type": "code",
   "execution_count": 6,
   "id": "b69bcb29",
   "metadata": {},
   "outputs": [],
   "source": [
    "starwars['character'] = starwars['character'].apply(cl.strip)\n",
    "starwars['dialogue'] = starwars['dialogue'].apply(cl.strip)"
   ]
  },
  {
   "cell_type": "code",
   "execution_count": 7,
   "id": "30057a80",
   "metadata": {},
   "outputs": [
    {
     "data": {
      "text/html": [
       "<div>\n",
       "<style scoped>\n",
       "    .dataframe tbody tr th:only-of-type {\n",
       "        vertical-align: middle;\n",
       "    }\n",
       "\n",
       "    .dataframe tbody tr th {\n",
       "        vertical-align: top;\n",
       "    }\n",
       "\n",
       "    .dataframe thead th {\n",
       "        text-align: right;\n",
       "    }\n",
       "</style>\n",
       "<table border=\"1\" class=\"dataframe\">\n",
       "  <thead>\n",
       "    <tr style=\"text-align: right;\">\n",
       "      <th></th>\n",
       "      <th>character</th>\n",
       "      <th>dialogue</th>\n",
       "      <th>episode</th>\n",
       "    </tr>\n",
       "    <tr>\n",
       "      <th>index</th>\n",
       "      <th></th>\n",
       "      <th></th>\n",
       "      <th></th>\n",
       "    </tr>\n",
       "  </thead>\n",
       "  <tbody>\n",
       "    <tr>\n",
       "      <th>42</th>\n",
       "      <td>THREEPIO</td>\n",
       "      <td>This can't be! Artoo, you're playing the wrong...</td>\n",
       "      <td>VI</td>\n",
       "    </tr>\n",
       "    <tr>\n",
       "      <th>343</th>\n",
       "      <td>LEIA</td>\n",
       "      <td>Let go, please.</td>\n",
       "      <td>V</td>\n",
       "    </tr>\n",
       "    <tr>\n",
       "      <th>654</th>\n",
       "      <td>LEIA</td>\n",
       "      <td>What happened?</td>\n",
       "      <td>V</td>\n",
       "    </tr>\n",
       "  </tbody>\n",
       "</table>\n",
       "</div>"
      ],
      "text/plain": [
       "      character                                           dialogue episode\n",
       "index                                                                     \n",
       "42     THREEPIO  This can't be! Artoo, you're playing the wrong...      VI\n",
       "343        LEIA                                    Let go, please.       V\n",
       "654        LEIA                                     What happened?       V"
      ]
     },
     "execution_count": 7,
     "metadata": {},
     "output_type": "execute_result"
    }
   ],
   "source": [
    "starwars.sample(3)"
   ]
  },
  {
   "cell_type": "code",
   "execution_count": 8,
   "id": "925131c6",
   "metadata": {},
   "outputs": [
    {
     "data": {
      "text/plain": [
       "character    0\n",
       "dialogue     0\n",
       "episode      0\n",
       "dtype: int64"
      ]
     },
     "execution_count": 8,
     "metadata": {},
     "output_type": "execute_result"
    }
   ],
   "source": [
    "starwars.isnull().sum()"
   ]
  },
  {
   "cell_type": "code",
   "execution_count": 10,
   "id": "6ed660d5",
   "metadata": {},
   "outputs": [],
   "source": [
    "starwars.to_csv('../StarWarsScripts/starwars.csv')"
   ]
  },
  {
   "cell_type": "code",
   "execution_count": 11,
   "id": "ba018311",
   "metadata": {},
   "outputs": [
    {
     "data": {
      "text/html": [
       "<div>\n",
       "<style scoped>\n",
       "    .dataframe tbody tr th:only-of-type {\n",
       "        vertical-align: middle;\n",
       "    }\n",
       "\n",
       "    .dataframe tbody tr th {\n",
       "        vertical-align: top;\n",
       "    }\n",
       "\n",
       "    .dataframe thead th {\n",
       "        text-align: right;\n",
       "    }\n",
       "</style>\n",
       "<table border=\"1\" class=\"dataframe\">\n",
       "  <thead>\n",
       "    <tr style=\"text-align: right;\">\n",
       "      <th></th>\n",
       "      <th>character</th>\n",
       "      <th>dialogue</th>\n",
       "      <th>episode</th>\n",
       "    </tr>\n",
       "    <tr>\n",
       "      <th>index</th>\n",
       "      <th></th>\n",
       "      <th></th>\n",
       "      <th></th>\n",
       "    </tr>\n",
       "  </thead>\n",
       "  <tbody>\n",
       "    <tr>\n",
       "      <th>0</th>\n",
       "      <td>THREEPIO</td>\n",
       "      <td>Did you hear that?  They've shut down the main...</td>\n",
       "      <td>IV</td>\n",
       "    </tr>\n",
       "    <tr>\n",
       "      <th>1</th>\n",
       "      <td>THREEPIO</td>\n",
       "      <td>We're doomed!</td>\n",
       "      <td>IV</td>\n",
       "    </tr>\n",
       "    <tr>\n",
       "      <th>2</th>\n",
       "      <td>THREEPIO</td>\n",
       "      <td>There'll be no escape for the Princess this time.</td>\n",
       "      <td>IV</td>\n",
       "    </tr>\n",
       "    <tr>\n",
       "      <th>3</th>\n",
       "      <td>THREEPIO</td>\n",
       "      <td>What's that?</td>\n",
       "      <td>IV</td>\n",
       "    </tr>\n",
       "    <tr>\n",
       "      <th>4</th>\n",
       "      <td>THREEPIO</td>\n",
       "      <td>I should have known better than to trust the l...</td>\n",
       "      <td>IV</td>\n",
       "    </tr>\n",
       "  </tbody>\n",
       "</table>\n",
       "</div>"
      ],
      "text/plain": [
       "      character                                           dialogue episode\n",
       "index                                                                     \n",
       "0      THREEPIO  Did you hear that?  They've shut down the main...      IV\n",
       "1      THREEPIO                                      We're doomed!      IV\n",
       "2      THREEPIO  There'll be no escape for the Princess this time.      IV\n",
       "3      THREEPIO                                       What's that?      IV\n",
       "4      THREEPIO  I should have known better than to trust the l...      IV"
      ]
     },
     "execution_count": 11,
     "metadata": {},
     "output_type": "execute_result"
    }
   ],
   "source": [
    "starwars.head()"
   ]
  },
  {
   "cell_type": "code",
   "execution_count": null,
   "id": "0504ce47",
   "metadata": {},
   "outputs": [],
   "source": []
  }
 ],
 "metadata": {
  "kernelspec": {
   "display_name": "ironhack",
   "language": "python",
   "name": "ironhack"
  },
  "language_info": {
   "codemirror_mode": {
    "name": "ipython",
    "version": 3
   },
   "file_extension": ".py",
   "mimetype": "text/x-python",
   "name": "python",
   "nbconvert_exporter": "python",
   "pygments_lexer": "ipython3",
   "version": "3.9.7"
  }
 },
 "nbformat": 4,
 "nbformat_minor": 5
}
