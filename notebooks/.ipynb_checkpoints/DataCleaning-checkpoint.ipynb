{
 "cells": [
  {
   "cell_type": "code",
   "execution_count": 1,
   "id": "22396469",
   "metadata": {},
   "outputs": [],
   "source": [
    "import pandas as pd\n",
    "import sys\n",
    "sys.path.append('../')\n",
    "import tools.cleaning as cl"
   ]
  },
  {
   "cell_type": "code",
   "execution_count": 2,
   "id": "1c070994",
   "metadata": {},
   "outputs": [],
   "source": [
    "epIV = pd.read_table('../data/SW_EpisodeIV.txt')\n",
    "epV = pd.read_table('../data/SW_EpisodeV.txt')\n",
    "epVI = pd.read_table('../data/SW_EpisodeVI.txt')"
   ]
  },
  {
   "cell_type": "code",
   "execution_count": 3,
   "id": "76272f1f",
   "metadata": {},
   "outputs": [
    {
     "data": {
      "text/html": [
       "<div>\n",
       "<style scoped>\n",
       "    .dataframe tbody tr th:only-of-type {\n",
       "        vertical-align: middle;\n",
       "    }\n",
       "\n",
       "    .dataframe tbody tr th {\n",
       "        vertical-align: top;\n",
       "    }\n",
       "\n",
       "    .dataframe thead th {\n",
       "        text-align: right;\n",
       "    }\n",
       "</style>\n",
       "<table border=\"1\" class=\"dataframe\">\n",
       "  <thead>\n",
       "    <tr style=\"text-align: right;\">\n",
       "      <th></th>\n",
       "      <th>character \"dialogue\"</th>\n",
       "    </tr>\n",
       "  </thead>\n",
       "  <tbody>\n",
       "    <tr>\n",
       "      <th>847</th>\n",
       "      <td>848 \"RED ELEVEN\" \"Red Eleven standing by.\"</td>\n",
       "    </tr>\n",
       "    <tr>\n",
       "      <th>560</th>\n",
       "      <td>561 \"THREEPIO\" \"Level five. Detention block AA...</td>\n",
       "    </tr>\n",
       "    <tr>\n",
       "      <th>152</th>\n",
       "      <td>153 \"THREEPIO\" \"I'm afraid I'm not quite sure,...</td>\n",
       "    </tr>\n",
       "  </tbody>\n",
       "</table>\n",
       "</div>"
      ],
      "text/plain": [
       "                                  character \"dialogue\"\n",
       "847         848 \"RED ELEVEN\" \"Red Eleven standing by.\"\n",
       "560  561 \"THREEPIO\" \"Level five. Detention block AA...\n",
       "152  153 \"THREEPIO\" \"I'm afraid I'm not quite sure,..."
      ]
     },
     "execution_count": 3,
     "metadata": {},
     "output_type": "execute_result"
    }
   ],
   "source": [
    "epIV.sample(3)"
   ]
  },
  {
   "cell_type": "code",
   "execution_count": 4,
   "id": "8ba7b63d",
   "metadata": {},
   "outputs": [],
   "source": [
    "df_1 = cl.cleandf(epIV);\n",
    "df_1['episode'] = 'IV'\n",
    "df_2 = cl.cleandf(epV);\n",
    "df_2['episode'] = 'V'\n",
    "df_3 = cl.cleandf(epVI);\n",
    "df_3['episode'] = 'VI'"
   ]
  },
  {
   "cell_type": "code",
   "execution_count": 5,
   "id": "ae72be6e",
   "metadata": {},
   "outputs": [],
   "source": [
    "starwars = pd.concat([df_1, df_2, df_3]).reset_index()\n",
    "starwars.set_index('index', inplace=True)"
   ]
  },
  {
   "cell_type": "code",
   "execution_count": 6,
   "id": "b69bcb29",
   "metadata": {},
   "outputs": [],
   "source": [
    "starwars['character'] = starwars['character'].apply(cl.strip)\n",
    "starwars['dialogue'] = starwars['dialogue'].apply(cl.strip)"
   ]
  },
  {
   "cell_type": "code",
   "execution_count": 17,
   "id": "309164d2",
   "metadata": {},
   "outputs": [],
   "source": [
    "starwars.character = starwars.character.str.replace(\"’\",\"\",regex = True)\n",
    "starwars.character = starwars.character.str.replace(\"'\",\"\",regex = True)\n",
    "starwars.dialogue = starwars.dialogue.str.replace(\"’\",\"\",regex = True)\n",
    "starwars.dialogue = starwars.dialogue.str.replace(\"'\",\"\",regex = True)\n",
    "starwars.dialogue = starwars.dialogue.str.replace(\"\\\\\",\"\",regex = True)\n",
    "starwars.dialogue = starwars.dialogue.str.replace(\"/\",\"\",regex = True)\n",
    "starwars.dialogue = starwars.dialogue.str.replace(\",\",\"\",regex = True)\n",
    "starwars.dialogue = starwars.dialogue.str.replace('\"',\"\",regex = True)"
   ]
  },
  {
   "cell_type": "code",
   "execution_count": 18,
   "id": "6152483d",
   "metadata": {},
   "outputs": [
    {
     "data": {
      "text/plain": [
       "index\n",
       "522                Your overconfidence is your weakness.\n",
       "715    I do not want the Emperors prize damaged. We w...\n",
       "775                                            Leia! Go!\n",
       "774    Ouch! Oh! Ah! That hurt Bend down you thoughtl...\n",
       "499                            Back door huh? Good idea.\n",
       "308                                          Pulverized?\n",
       "535                    We found the computer outlet sir.\n",
       "136                                           Just Luke.\n",
       "311              We dont need to see his identification.\n",
       "230                             A certain point of view!\n",
       "Name: dialogue, dtype: object"
      ]
     },
     "execution_count": 18,
     "metadata": {},
     "output_type": "execute_result"
    }
   ],
   "source": [
    "starwars.dialogue.sample(10)"
   ]
  },
  {
   "cell_type": "code",
   "execution_count": 19,
   "id": "925131c6",
   "metadata": {},
   "outputs": [
    {
     "data": {
      "text/plain": [
       "character    0\n",
       "dialogue     0\n",
       "episode      0\n",
       "dtype: int64"
      ]
     },
     "execution_count": 19,
     "metadata": {},
     "output_type": "execute_result"
    }
   ],
   "source": [
    "starwars.isnull().sum()"
   ]
  },
  {
   "cell_type": "code",
   "execution_count": 20,
   "id": "6ed660d5",
   "metadata": {},
   "outputs": [],
   "source": [
    "starwars.to_csv('../data/starwars.csv')"
   ]
  },
  {
   "cell_type": "code",
   "execution_count": 21,
   "id": "ba018311",
   "metadata": {},
   "outputs": [
    {
     "data": {
      "text/html": [
       "<div>\n",
       "<style scoped>\n",
       "    .dataframe tbody tr th:only-of-type {\n",
       "        vertical-align: middle;\n",
       "    }\n",
       "\n",
       "    .dataframe tbody tr th {\n",
       "        vertical-align: top;\n",
       "    }\n",
       "\n",
       "    .dataframe thead th {\n",
       "        text-align: right;\n",
       "    }\n",
       "</style>\n",
       "<table border=\"1\" class=\"dataframe\">\n",
       "  <thead>\n",
       "    <tr style=\"text-align: right;\">\n",
       "      <th></th>\n",
       "      <th>character</th>\n",
       "      <th>dialogue</th>\n",
       "      <th>episode</th>\n",
       "    </tr>\n",
       "    <tr>\n",
       "      <th>index</th>\n",
       "      <th></th>\n",
       "      <th></th>\n",
       "      <th></th>\n",
       "    </tr>\n",
       "  </thead>\n",
       "  <tbody>\n",
       "    <tr>\n",
       "      <th>0</th>\n",
       "      <td>THREEPIO</td>\n",
       "      <td>Did you hear that?  Theyve shut down the main ...</td>\n",
       "      <td>IV</td>\n",
       "    </tr>\n",
       "    <tr>\n",
       "      <th>1</th>\n",
       "      <td>THREEPIO</td>\n",
       "      <td>Were doomed!</td>\n",
       "      <td>IV</td>\n",
       "    </tr>\n",
       "    <tr>\n",
       "      <th>2</th>\n",
       "      <td>THREEPIO</td>\n",
       "      <td>Therell be no escape for the Princess this time.</td>\n",
       "      <td>IV</td>\n",
       "    </tr>\n",
       "    <tr>\n",
       "      <th>3</th>\n",
       "      <td>THREEPIO</td>\n",
       "      <td>Whats that?</td>\n",
       "      <td>IV</td>\n",
       "    </tr>\n",
       "    <tr>\n",
       "      <th>4</th>\n",
       "      <td>THREEPIO</td>\n",
       "      <td>I should have known better than to trust the l...</td>\n",
       "      <td>IV</td>\n",
       "    </tr>\n",
       "  </tbody>\n",
       "</table>\n",
       "</div>"
      ],
      "text/plain": [
       "      character                                           dialogue episode\n",
       "index                                                                     \n",
       "0      THREEPIO  Did you hear that?  Theyve shut down the main ...      IV\n",
       "1      THREEPIO                                       Were doomed!      IV\n",
       "2      THREEPIO   Therell be no escape for the Princess this time.      IV\n",
       "3      THREEPIO                                        Whats that?      IV\n",
       "4      THREEPIO  I should have known better than to trust the l...      IV"
      ]
     },
     "execution_count": 21,
     "metadata": {},
     "output_type": "execute_result"
    }
   ],
   "source": [
    "starwars.head()"
   ]
  },
  {
   "cell_type": "code",
   "execution_count": null,
   "id": "275ea11a",
   "metadata": {},
   "outputs": [],
   "source": []
  },
  {
   "cell_type": "code",
   "execution_count": null,
   "id": "85e3c124",
   "metadata": {},
   "outputs": [],
   "source": []
  }
 ],
 "metadata": {
  "kernelspec": {
   "display_name": "ironhack",
   "language": "python",
   "name": "ironhack"
  },
  "language_info": {
   "codemirror_mode": {
    "name": "ipython",
    "version": 3
   },
   "file_extension": ".py",
   "mimetype": "text/x-python",
   "name": "python",
   "nbconvert_exporter": "python",
   "pygments_lexer": "ipython3",
   "version": "3.9.7"
  }
 },
 "nbformat": 4,
 "nbformat_minor": 5
}
