{
 "cells": [
  {
   "cell_type": "code",
   "execution_count": 5,
   "id": "381a143d",
   "metadata": {},
   "outputs": [],
   "source": [
    "import requests\n",
    "import sqlalchemy as alch\n",
    "import pandas as pd\n",
    "import json\n",
    "import os\n",
    "import dotenv\n",
    "from getpass import getpass "
   ]
  },
  {
   "cell_type": "code",
   "execution_count": 6,
   "id": "dd14eba5",
   "metadata": {},
   "outputs": [
    {
     "data": {
      "text/plain": [
       "True"
      ]
     },
     "execution_count": 6,
     "metadata": {},
     "output_type": "execute_result"
    }
   ],
   "source": [
    "dotenv.load_dotenv()"
   ]
  },
  {
   "cell_type": "code",
   "execution_count": 19,
   "id": "1200a3ad",
   "metadata": {},
   "outputs": [
    {
     "data": {
      "text/plain": [
       "{'Content-Type': 'text/html; charset=utf-8', 'Content-Length': '11', 'Server': 'Werkzeug/2.0.2 Python/3.9.7', 'Date': 'Fri, 26 Nov 2021 11:04:46 GMT'}"
      ]
     },
     "execution_count": 19,
     "metadata": {},
     "output_type": "execute_result"
    }
   ],
   "source": [
    "requests.get(\"http://127.0.0.1:5000/\").headers\n",
    "# url shown in the terminal after command 'python3 main.py'"
   ]
  },
  {
   "cell_type": "code",
   "execution_count": 22,
   "id": "e3dbea4e",
   "metadata": {},
   "outputs": [
    {
     "data": {
      "text/plain": [
       "'Hello World'"
      ]
     },
     "execution_count": 22,
     "metadata": {},
     "output_type": "execute_result"
    }
   ],
   "source": [
    "requests.get(\"http://127.0.0.1:5000/\").text"
   ]
  },
  {
   "cell_type": "code",
   "execution_count": null,
   "id": "427c1064",
   "metadata": {},
   "outputs": [],
   "source": []
  }
 ],
 "metadata": {
  "kernelspec": {
   "display_name": "ironhack",
   "language": "python",
   "name": "ironhack"
  },
  "language_info": {
   "codemirror_mode": {
    "name": "ipython",
    "version": 3
   },
   "file_extension": ".py",
   "mimetype": "text/x-python",
   "name": "python",
   "nbconvert_exporter": "python",
   "pygments_lexer": "ipython3",
   "version": "3.9.7"
  }
 },
 "nbformat": 4,
 "nbformat_minor": 5
}
