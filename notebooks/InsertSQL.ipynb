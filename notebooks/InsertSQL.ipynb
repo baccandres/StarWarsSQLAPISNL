{
 "cells": [
  {
   "cell_type": "code",
   "execution_count": 5,
   "id": "76ac3dec",
   "metadata": {},
   "outputs": [],
   "source": [
    "import requests\n",
    "import sqlalchemy as alch\n",
    "import pandas as pd\n",
    "import json\n",
    "import os\n",
    "import dotenv\n",
    "from getpass import getpass "
   ]
  },
  {
   "cell_type": "code",
   "execution_count": 25,
   "id": "026ecfa1",
   "metadata": {},
   "outputs": [
    {
     "data": {
      "text/plain": [
       "True"
      ]
     },
     "execution_count": 25,
     "metadata": {},
     "output_type": "execute_result"
    }
   ],
   "source": [
    "dotenv.load_dotenv()"
   ]
  },
  {
   "cell_type": "code",
   "execution_count": 26,
   "id": "7777f145",
   "metadata": {},
   "outputs": [
    {
     "data": {
      "text/plain": [
       "{'Content-Type': 'text/html; charset=utf-8', 'Content-Length': '11', 'Server': 'Werkzeug/2.0.2 Python/3.9.7', 'Date': 'Fri, 26 Nov 2021 11:05:59 GMT'}"
      ]
     },
     "execution_count": 26,
     "metadata": {},
     "output_type": "execute_result"
    }
   ],
   "source": [
    "requests.get(\"http://127.0.0.1:5000/\").headers\n",
    "# url shown in the terminal after command 'python3 main.py'"
   ]
  },
  {
   "cell_type": "code",
   "execution_count": 27,
   "id": "259cfcbb",
   "metadata": {},
   "outputs": [
    {
     "data": {
      "text/plain": [
       "'Hello World'"
      ]
     },
     "execution_count": 27,
     "metadata": {},
     "output_type": "execute_result"
    }
   ],
   "source": [
    "requests.get(\"http://127.0.0.1:5000/\").text"
   ]
  },
  {
   "cell_type": "code",
   "execution_count": null,
   "id": "511dc421",
   "metadata": {},
   "outputs": [],
   "source": []
  }
 ],
 "metadata": {
  "kernelspec": {
   "display_name": "ironhack",
   "language": "python",
   "name": "ironhack"
  },
  "language_info": {
   "codemirror_mode": {
    "name": "ipython",
    "version": 3
   },
   "file_extension": ".py",
   "mimetype": "text/x-python",
   "name": "python",
   "nbconvert_exporter": "python",
   "pygments_lexer": "ipython3",
   "version": "3.9.7"
  }
 },
 "nbformat": 4,
 "nbformat_minor": 5
}
